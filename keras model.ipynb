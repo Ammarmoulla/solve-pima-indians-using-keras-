{
  "nbformat": 4,
  "nbformat_minor": 0,
  "metadata": {
    "kernelspec": {
      "display_name": "Python 3",
      "language": "python",
      "name": "python3"
    },
    "language_info": {
      "codemirror_mode": {
        "name": "ipython",
        "version": 3
      },
      "file_extension": ".py",
      "mimetype": "text/x-python",
      "name": "python",
      "nbconvert_exporter": "python",
      "pygments_lexer": "ipython3",
      "version": "3.7.6"
    },
    "colab": {
      "name": "keras.ipynb",
      "provenance": []
    }
  },
  "cells": [
    {
      "cell_type": "code",
      "metadata": {
        "id": "chsA7pDAtzYc",
        "colab_type": "code",
        "colab": {}
      },
      "source": [
        "#Importing Libraries\n",
        "import numpy as np\n",
        "import matplotlib.pyplot as plt\n",
        "import pandas as pd\n",
        "%matplotlib inline\n",
        "import tensorflow as tf\n",
        "from keras import datasets\n",
        "import imutils\n",
        "import cv2\n",
        "from google.colab.patches import cv2_imshow"
      ],
      "execution_count": null,
      "outputs": []
    },
    {
      "cell_type": "code",
      "metadata": {
        "id": "sPUGJiIJjJv7",
        "colab_type": "code",
        "colab": {}
      },
      "source": [
        "#name column\n",
        "col=[\"NP\",\"glucose\",\"P_blood\",\"T_skin\",\"insulin\",\"Body mass\",\"function\",\"age\",\"class\"]"
      ],
      "execution_count": null,
      "outputs": []
    },
    {
      "cell_type": "code",
      "metadata": {
        "id": "POqse7sJxJHd",
        "colab_type": "code",
        "colab": {}
      },
      "source": [
        "#load data\n",
        "df=pd.read_csv(\"pima-indians-diabetes.csv\")\n",
        "df.columns=col"
      ],
      "execution_count": null,
      "outputs": []
    },
    {
      "cell_type": "code",
      "metadata": {
        "id": "0mdF1KX8j9aq",
        "colab_type": "code",
        "colab": {
          "base_uri": "https://localhost:8080/",
          "height": 451
        },
        "outputId": "729f75ea-b04e-4304-a855-9b27c998d9c7"
      },
      "source": [
        "#descraib data\n",
        "df.head(),df.info()"
      ],
      "execution_count": null,
      "outputs": [
        {
          "output_type": "stream",
          "text": [
            "<class 'pandas.core.frame.DataFrame'>\n",
            "RangeIndex: 767 entries, 0 to 766\n",
            "Data columns (total 9 columns):\n",
            " #   Column     Non-Null Count  Dtype  \n",
            "---  ------     --------------  -----  \n",
            " 0   NP         767 non-null    int64  \n",
            " 1   glucose    767 non-null    int64  \n",
            " 2   P_blood    767 non-null    int64  \n",
            " 3   T_skin     767 non-null    int64  \n",
            " 4   insulin    767 non-null    int64  \n",
            " 5   Body mass  767 non-null    float64\n",
            " 6   function   767 non-null    float64\n",
            " 7   age        767 non-null    int64  \n",
            " 8   class      767 non-null    int64  \n",
            "dtypes: float64(2), int64(7)\n",
            "memory usage: 54.1 KB\n"
          ],
          "name": "stdout"
        },
        {
          "output_type": "execute_result",
          "data": {
            "text/plain": [
              "(   NP  glucose  P_blood  T_skin  insulin  Body mass  function  age  class\n",
              " 0   1       85       66      29        0       26.6     0.351   31      0\n",
              " 1   8      183       64       0        0       23.3     0.672   32      1\n",
              " 2   1       89       66      23       94       28.1     0.167   21      0\n",
              " 3   0      137       40      35      168       43.1     2.288   33      1\n",
              " 4   5      116       74       0        0       25.6     0.201   30      0,\n",
              " None)"
            ]
          },
          "metadata": {
            "tags": []
          },
          "execution_count": 75
        }
      ]
    },
    {
      "cell_type": "code",
      "metadata": {
        "id": "EemyLZQSW_Id",
        "colab_type": "code",
        "colab": {}
      },
      "source": [
        "#select x,y\n",
        "X=df.iloc[:,:-1].values\n",
        "y=df.iloc[:,-1].values\n",
        "y=y.reshape((767,1))"
      ],
      "execution_count": null,
      "outputs": []
    },
    {
      "cell_type": "code",
      "metadata": {
        "id": "jZtyjZjCW_L0",
        "colab_type": "code",
        "colab": {
          "base_uri": "https://localhost:8080/",
          "height": 36
        },
        "outputId": "2c6ad661-4e89-45e1-d172-ee3656dc269c"
      },
      "source": [
        "#x,y shape\n",
        "X.shape,y.shape,np.random.seed(7)"
      ],
      "execution_count": null,
      "outputs": [
        {
          "output_type": "execute_result",
          "data": {
            "text/plain": [
              "((767, 8), (767, 1))"
            ]
          },
          "metadata": {
            "tags": []
          },
          "execution_count": 78
        }
      ]
    },
    {
      "cell_type": "code",
      "metadata": {
        "id": "Qw4VSD6SW_Oe",
        "colab_type": "code",
        "colab": {}
      },
      "source": [
        "#build NN model using keras\n",
        "from keras.models import Sequential\n",
        "from keras.layers import Dense\n",
        "model=Sequential()\n",
        "model.add(Dense(16,input_dim=8,kernel_initializer=\"uniform\",activation=\"relu\"))\n",
        "model.add(Dense(8,kernel_initializer=\"uniform\",activation=\"relu\"))\n",
        "model.add(Dense(1,kernel_initializer=\"uniform\",activation=\"sigmoid\"))"
      ],
      "execution_count": null,
      "outputs": []
    },
    {
      "cell_type": "code",
      "metadata": {
        "id": "VIE5F_EnW_Ub",
        "colab_type": "code",
        "colab": {}
      },
      "source": [
        "#compile model\n",
        "model.compile(optimizer=\"adam\",loss=\"binary_crossentropy\",metrics=[\"accuracy\"])"
      ],
      "execution_count": null,
      "outputs": []
    },
    {
      "cell_type": "code",
      "metadata": {
        "id": "iBlxXyDvuih8",
        "colab_type": "code",
        "colab": {}
      },
      "source": [
        "#fit model\n",
        "model.fit(X,y,epochs=150,validation_split=0.33,batch_size=10)"
      ],
      "execution_count": null,
      "outputs": []
    },
    {
      "cell_type": "code",
      "metadata": {
        "id": "FavRFMNZW_bq",
        "colab_type": "code",
        "colab": {
          "base_uri": "https://localhost:8080/",
          "height": 55
        },
        "outputId": "e44eb23c-691c-42b7-8d72-d1009180e83e"
      },
      "source": [
        "#evalute model\n",
        "scores = model.evaluate(X, y)\n",
        "print(\"%s: %.2f%%\" % (model.metrics_names[0], scores[1]*100))"
      ],
      "execution_count": null,
      "outputs": [
        {
          "output_type": "stream",
          "text": [
            "767/767 [==============================] - 0s 27us/step\n",
            "loss: 80.96%\n"
          ],
          "name": "stdout"
        }
      ]
    },
    {
      "cell_type": "code",
      "metadata": {
        "id": "LJeMigX5XARW",
        "colab_type": "code",
        "colab": {}
      },
      "source": [
        ""
      ],
      "execution_count": null,
      "outputs": []
    },
    {
      "cell_type": "code",
      "metadata": {
        "id": "abKe8ZQwXAOL",
        "colab_type": "code",
        "colab": {}
      },
      "source": [
        ""
      ],
      "execution_count": null,
      "outputs": []
    },
    {
      "cell_type": "code",
      "metadata": {
        "id": "LMNPqJzCXAMl",
        "colab_type": "code",
        "colab": {}
      },
      "source": [
        ""
      ],
      "execution_count": null,
      "outputs": []
    },
    {
      "cell_type": "code",
      "metadata": {
        "id": "QFeUf_3lXABr",
        "colab_type": "code",
        "colab": {}
      },
      "source": [
        ""
      ],
      "execution_count": null,
      "outputs": []
    },
    {
      "cell_type": "code",
      "metadata": {
        "id": "7zMj2avQW__B",
        "colab_type": "code",
        "colab": {}
      },
      "source": [
        ""
      ],
      "execution_count": null,
      "outputs": []
    },
    {
      "cell_type": "code",
      "metadata": {
        "id": "pqtCsqXfW_Z2",
        "colab_type": "code",
        "colab": {}
      },
      "source": [
        ""
      ],
      "execution_count": null,
      "outputs": []
    },
    {
      "cell_type": "code",
      "metadata": {
        "id": "zEC-T0RuW_Ta",
        "colab_type": "code",
        "colab": {}
      },
      "source": [
        ""
      ],
      "execution_count": null,
      "outputs": []
    },
    {
      "cell_type": "code",
      "metadata": {
        "id": "zL6DrFR5xJL4",
        "colab_type": "code",
        "colab": {}
      },
      "source": [
        ""
      ],
      "execution_count": null,
      "outputs": []
    },
    {
      "cell_type": "code",
      "metadata": {
        "id": "b4l6D9PKxJPH",
        "colab_type": "code",
        "colab": {}
      },
      "source": [
        ""
      ],
      "execution_count": null,
      "outputs": []
    },
    {
      "cell_type": "code",
      "metadata": {
        "id": "F_YN4HCSuw2V",
        "colab_type": "code",
        "colab": {}
      },
      "source": [
        ""
      ],
      "execution_count": null,
      "outputs": []
    }
  ]
}